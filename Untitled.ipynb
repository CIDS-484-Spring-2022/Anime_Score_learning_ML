{
 "cells": [
  {
   "cell_type": "code",
   "execution_count": 6,
   "id": "aa9bf303-c047-4f1e-a941-dfd1b1609a22",
   "metadata": {},
   "outputs": [],
   "source": [
    "import selenium\n",
    "from \n",
    "from selenium import webdriver"
   ]
  },
  {
   "cell_type": "code",
   "execution_count": 8,
   "id": "10499338-2226-4919-9555-77c338767bb2",
   "metadata": {},
   "outputs": [],
   "source": [
    "PATH = \"C:/Users/starm/Desktop/Anime_Score_learning_ML/Anime_Score_learning_ML/chromedriver.exe\"\n",
    "driver = webdriver.Chrome(PATH)\n",
    "driver.get(\"https://myanimelist.net/\")"
   ]
  },
  {
   "cell_type": "code",
   "execution_count": null,
   "id": "4a638d06-038d-47f4-b863-2304f373c499",
   "metadata": {},
   "outputs": [],
   "source": []
  }
 ],
 "metadata": {
  "kernelspec": {
   "display_name": "Python 3 (ipykernel)",
   "language": "python",
   "name": "python3"
  },
  "language_info": {
   "codemirror_mode": {
    "name": "ipython",
    "version": 3
   },
   "file_extension": ".py",
   "mimetype": "text/x-python",
   "name": "python",
   "nbconvert_exporter": "python",
   "pygments_lexer": "ipython3",
   "version": "3.9.7"
  }
 },
 "nbformat": 4,
 "nbformat_minor": 5
}
